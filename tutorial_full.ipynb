{
  "cells": [
    {
      "metadata": {},
      "cell_type": "markdown",
      "source": "<!-- -*- coding: utf-8 -*- -->\nhttps://networkx.github.io/documentation/stable/tutorial.html#graph-generators-and-graph-operations\n\n## Tutorial\n\nThis guide can help you start working with NetworkX.\n\n### Creating a graph\n\nCreate an empty graph with no nodes and no edges."
    },
    {
      "metadata": {},
      "cell_type": "markdown",
      "source": "By definition, a `Graph` is a collection of nodes (vertices) along with\nidentified pairs of nodes (called edges, links, etc).  In NetworkX, nodes can\nbe any hashable object e.g., a text string, an image, an XML object, another\nGraph, a customized node object, etc.\n\n# Nodes\n\nThe graph `G` can be grown in several ways.  NetworkX includes many graph\ngenerator functions and facilities to read and write graphs in many formats.\nTo get started though we’ll look at simple manipulations.  You can add one node\nat a time,"
    },
    {
      "metadata": {
        "trusted": true
      },
      "cell_type": "code",
      "source": "import networkx as nx\nG = nx.Graph()",
      "execution_count": 10,
      "outputs": []
    },
    {
      "metadata": {},
      "cell_type": "markdown",
      "source": "add a list of nodes,"
    },
    {
      "metadata": {
        "trusted": true
      },
      "cell_type": "code",
      "source": "G.add_nodes_from([2, 3])",
      "execution_count": 11,
      "outputs": []
    },
    {
      "metadata": {},
      "cell_type": "markdown",
      "source": "or add any iterable container of nodes. You can also add nodes along with node\nattributes if your container yields 2-tuples (node, node_attribute_dict).\nNode attributes are discussed further below."
    },
    {
      "metadata": {
        "trusted": true
      },
      "cell_type": "code",
      "source": "H = nx.path_graph(10)\nG.add_nodes_from(H)",
      "execution_count": 12,
      "outputs": []
    },
    {
      "metadata": {},
      "cell_type": "markdown",
      "source": "Note that `G` now contains the nodes of `H` as nodes of `G`.\nIn contrast, you could use the graph `H` as a node in `G`."
    },
    {
      "metadata": {
        "trusted": true
      },
      "cell_type": "code",
      "source": "G.add_node(H)",
      "execution_count": 13,
      "outputs": []
    },
    {
      "metadata": {},
      "cell_type": "markdown",
      "source": "The graph `G` now contains `H` as a node.  This flexibility is very powerful as\nit allows graphs of graphs, graphs of files, graphs of functions and much more.\nIt is worth thinking about how to structure your application so that the nodes\nare useful entities.  Of course you can always use a unique identifier in `G`\nand have a separate dictionary keyed by identifier to the node information if\nyou prefer.\n\n# Edges\n\n`G` can also be grown by adding one edge at a time,"
    },
    {
      "metadata": {
        "trusted": true
      },
      "cell_type": "code",
      "source": "G.add_edge(1, 2)\ne = (2, 3)\nG.add_edge(*e)  # unpack edge tuple*",
      "execution_count": 14,
      "outputs": []
    },
    {
      "metadata": {},
      "cell_type": "markdown",
      "source": "by adding a list of edges,"
    },
    {
      "metadata": {
        "trusted": true
      },
      "cell_type": "code",
      "source": "G.add_edges_from([(1, 2), (1, 3)])",
      "execution_count": 15,
      "outputs": []
    },
    {
      "metadata": {},
      "cell_type": "markdown",
      "source": "or by adding any ebunch of edges.  An *ebunch* is any iterable\ncontainer of edge-tuples.  An edge-tuple can be a 2-tuple of nodes or a 3-tuple\nwith 2 nodes followed by an edge attribute dictionary, e.g.,\n`(2, 3, {'weight': 3.1415})`.  Edge attributes are discussed further below"
    },
    {
      "metadata": {
        "trusted": true
      },
      "cell_type": "code",
      "source": "G.add_edges_from(H.edges)",
      "execution_count": 16,
      "outputs": []
    },
    {
      "metadata": {},
      "cell_type": "markdown",
      "source": "There are no complaints when adding existing nodes or edges. For example,\nafter removing all nodes and edges,"
    },
    {
      "metadata": {
        "trusted": true
      },
      "cell_type": "code",
      "source": "G.clear()",
      "execution_count": 17,
      "outputs": []
    },
    {
      "metadata": {},
      "cell_type": "markdown",
      "source": "we add new nodes/edges and NetworkX quietly ignores any that are\nalready present."
    },
    {
      "metadata": {
        "trusted": true
      },
      "cell_type": "code",
      "source": "G.add_edges_from([(1, 2), (1, 3)])\nG.add_node(1)\nG.add_edge(1, 2)\nG.add_node(\"spam\")        # adds node \"spam\"\nG.add_nodes_from(\"spam\")  # adds 4 nodes: 's', 'p', 'a', 'm'\nG.add_edge(3, 'm')",
      "execution_count": 18,
      "outputs": []
    },
    {
      "metadata": {},
      "cell_type": "markdown",
      "source": "At this stage the graph `G` consists of 8 nodes and 3 edges, as can be seen by:"
    },
    {
      "metadata": {
        "trusted": true
      },
      "cell_type": "code",
      "source": "G.number_of_nodes()\nG.number_of_edges()",
      "execution_count": 19,
      "outputs": [
        {
          "output_type": "execute_result",
          "execution_count": 19,
          "data": {
            "text/plain": "3"
          },
          "metadata": {}
        }
      ]
    },
    {
      "metadata": {
        "trusted": true
      },
      "cell_type": "code",
      "source": "import networkx as nx\nG = nx.Graph()",
      "execution_count": 20,
      "outputs": []
    },
    {
      "metadata": {},
      "cell_type": "markdown",
      "source": "We can examine the nodes and edges. Four basic graph properties facilitate\nreporting: `G.nodes`, `G.edges`, `G.adj` and `G.degree`.  These\nare set-like views of the nodes, edges, neighbors (adjacencies), and degrees\nof nodes in a graph. They offer a continually updated read-only view into\nthe graph structure. They are also dict-like in that you can look up node\nand edge data attributes via the views and iterate with data attributes\nusing methods `.items()`, `.data('span')`.\nIf you want a specific container type instead of a view, you can specify one.\nHere we use lists, though sets, dicts, tuples and other containers may be\nbetter in other contexts."
    },
    {
      "metadata": {
        "trusted": true
      },
      "cell_type": "code",
      "source": "G.add_nodes_from([1, 2, 3,4])\nG.add_edges_from([(1, 2), (1, 3),(4,1)])\nlist(G.nodes)\nlist(G.edges)\nlist(G.adj[1])  # or list(G.neighbors(1))\nG.degree[1]  # the number of edges incident to 1",
      "execution_count": 30,
      "outputs": [
        {
          "output_type": "execute_result",
          "execution_count": 30,
          "data": {
            "text/plain": "3"
          },
          "metadata": {}
        }
      ]
    },
    {
      "metadata": {},
      "cell_type": "markdown",
      "source": "One can specify to report the edges and degree from a subset of all nodes\nusing an *nbunch*. An *nbunch* is any of: None (meaning all nodes), a node,\nor an iterable container of nodes that is not itself a node in the graph."
    },
    {
      "metadata": {
        "trusted": true
      },
      "cell_type": "code",
      "source": "G.edges([2, 'm'])\nG.degree([2, 3])",
      "execution_count": 22,
      "outputs": [
        {
          "output_type": "execute_result",
          "execution_count": 22,
          "data": {
            "text/plain": "DegreeView({})"
          },
          "metadata": {}
        }
      ]
    },
    {
      "metadata": {},
      "cell_type": "markdown",
      "source": "One can remove nodes and edges from the graph in a similar fashion to adding.\nUse methods\n`Graph.remove_node()`,\n`Graph.remove_nodes_from()`,\n`Graph.remove_edge()`\nand\n`Graph.remove_edges_from()`, e.g."
    },
    {
      "metadata": {
        "trusted": true
      },
      "cell_type": "code",
      "source": "G.remove_node(2)\nG.remove_nodes_from(\"spam\")\nlist(G.nodes)\nG.remove_edge(1, 3)",
      "execution_count": 31,
      "outputs": []
    },
    {
      "metadata": {},
      "cell_type": "markdown",
      "source": "When creating a graph structure by instantiating one of the graph\nclasses you can specify data in several formats."
    },
    {
      "metadata": {
        "trusted": true
      },
      "cell_type": "code",
      "source": "G.add_edge(1, 2)\nH = nx.DiGraph(G)   # create a DiGraph using the connections from G\nlist(H.edges())\nedgelist = [(0, 1), (1, 2), (2, 3)]\nH = nx.Graph(edgelist)",
      "execution_count": 32,
      "outputs": []
    },
    {
      "metadata": {},
      "cell_type": "markdown",
      "source": "# What to use as nodes and edges\n\nYou might notice that nodes and edges are not specified as NetworkX\nobjects.  This leaves you free to use meaningful items as nodes and\nedges. The most common choices are numbers or strings, but a node can\nbe any hashable object (except `None`), and an edge can be associated\nwith any object `x` using `G.add_edge(n1, n2, object=x)`.\n\nAs an example, `n1` and `n2` could be protein objects from the RCSB Protein\nData Bank, and `x` could refer to an XML record of publications detailing\nexperimental observations of their interaction.\n\nWe have found this power quite useful, but its abuse\ncan lead to unexpected surprises unless one is familiar with Python.\nIf in doubt, consider using `convert_node_labels_to_integers()` to obtain\na more traditional graph with integer labels.\n\n# Accessing edges and neighbors\n\nIn addition to the views `Graph.edges()`, and `Graph.adj()`,\naccess to edges and neighbors is possible using subscript notation."
    },
    {
      "metadata": {
        "trusted": true
      },
      "cell_type": "code",
      "source": "G[1]  # same as G.adj[1]\nG[1][2]\nG.edges[1, 2]",
      "execution_count": null,
      "outputs": []
    },
    {
      "metadata": {},
      "cell_type": "markdown",
      "source": "You can get/set the attributes of an edge using subscript notation\nif the edge already exists."
    },
    {
      "metadata": {
        "trusted": true
      },
      "cell_type": "code",
      "source": "G.add_edge(1, 3)\nG[1][3]['color'] = \"blue\"\nG.edges[1, 2]['color'] = \"red\"",
      "execution_count": null,
      "outputs": []
    },
    {
      "metadata": {},
      "cell_type": "markdown",
      "source": "Fast examination of all (node, adjacency) pairs is achieved using\n`G.adjacency()`, or `G.adj.items()`.\nNote that for undirected graphs, adjacency iteration sees each edge twice."
    },
    {
      "metadata": {
        "trusted": true
      },
      "cell_type": "code",
      "source": "FG = nx.Graph()\nFG.add_weighted_edges_from([(1, 2, 0.125), (1, 3, 0.75), (2, 4, 1.2), (3, 4, 0.375)])\nfor n, nbrs in FG.adj.items():\n   for nbr, eattr in nbrs.items():\n       wt = eattr['weight']\n       if wt < 0.5: print('(%d, %d, %.3f)' % (n, nbr, wt))",
      "execution_count": 33,
      "outputs": [
        {
          "output_type": "stream",
          "text": "(1, 2, 0.125)\n(2, 1, 0.125)\n(3, 4, 0.375)\n(4, 3, 0.375)\n",
          "name": "stdout"
        }
      ]
    },
    {
      "metadata": {},
      "cell_type": "markdown",
      "source": "Convenient access to all edges is achieved with the edges property."
    },
    {
      "metadata": {
        "trusted": true
      },
      "cell_type": "code",
      "source": "for (u, v, wt) in FG.edges.data('weight'):\n    if wt < 0.5: print('(%d, %d, %.3f)' % (u, v, wt))",
      "execution_count": 34,
      "outputs": [
        {
          "output_type": "stream",
          "text": "(1, 2, 0.125)\n(3, 4, 0.375)\n",
          "name": "stdout"
        }
      ]
    },
    {
      "metadata": {},
      "cell_type": "markdown",
      "source": "# Adding attributes to graphs, nodes, and edges\n\nAttributes such as weights, labels, colors, or whatever Python object you like,\ncan be attached to graphs, nodes, or edges.\n\nEach graph, node, and edge can hold key/value attribute pairs in an associated\nattribute dictionary (the keys must be hashable).  By default these are empty,\nbut attributes can be added or changed using `add_edge`, `add_node` or direct\nmanipulation of the attribute dictionaries named `G.graph`, `G.nodes`, and\n`G.edges` for a graph `G`.\n\n## Graph attributes\n\nAssign graph attributes when creating a new graph"
    },
    {
      "metadata": {
        "trusted": true
      },
      "cell_type": "code",
      "source": "G = nx.Graph(day=\"Friday\")\nG.graph",
      "execution_count": null,
      "outputs": []
    },
    {
      "metadata": {},
      "cell_type": "markdown",
      "source": "Or you can modify attributes later"
    },
    {
      "metadata": {
        "trusted": true
      },
      "cell_type": "code",
      "source": "G.graph['day'] = \"Monday\"\nG.graph",
      "execution_count": null,
      "outputs": []
    },
    {
      "metadata": {},
      "cell_type": "markdown",
      "source": "# Node attributes\n\nAdd node attributes using `add_node()`, `add_nodes_from()`, or `G.nodes`"
    },
    {
      "metadata": {
        "trusted": true
      },
      "cell_type": "code",
      "source": "G.add_node(1, time='5pm')\nG.add_nodes_from([3], time='2pm')\nG.nodes[1]\nG.nodes[1]['room'] = 714\nG.nodes.data()",
      "execution_count": null,
      "outputs": []
    },
    {
      "metadata": {},
      "cell_type": "markdown",
      "source": "Note that adding a node to `G.nodes` does not add it to the graph, use\n`G.add_node()` to add new nodes. Similarly for edges.\n\n# Edge Attributes\n\nAdd/change edge attributes using `add_edge()`, `add_edges_from()`,\nor subscript notation."
    },
    {
      "metadata": {
        "trusted": true
      },
      "cell_type": "code",
      "source": "G.add_edge(1, 2, weight=4.7 )\nG.add_edges_from([(3, 4), (4, 5)], color='red')\nG.add_edges_from([(1, 2, {'color': 'blue'}), (2, 3, {'weight': 8})])\nG[1][2]['weight'] = 4.7\nG.edges[3, 4]['weight'] = 4.2",
      "execution_count": null,
      "outputs": []
    },
    {
      "metadata": {},
      "cell_type": "markdown",
      "source": "The special attribute `weight` should be numeric as it is used by\nalgorithms requiring weighted edges.\n\n Directed graphs\n\nThe `DiGraph` class provides additional properties specific to\ndirected edges, e.g.,\n`DiGraph.out_edges()`, `DiGraph.in_degree()`,\n`DiGraph.predecessors()`, `DiGraph.successors()` etc.\nTo allow algorithms to work with both classes easily, the directed versions of\n`neighbors()` is equivalent to `successors()` while `degree` reports\nthe sum of `in_degree` and `out_degree` even though that may feel\ninconsistent at times."
    },
    {
      "metadata": {
        "trusted": true
      },
      "cell_type": "code",
      "source": "DG = nx.DiGraph()\nDG.add_weighted_edges_from([(1, 2, 0.5), (3, 1, 0.75)])\nDG.out_degree(1, weight='weight')\nDG.degree(1, weight='weight')\nlist(DG.successors(1))\nlist(DG.neighbors(1))",
      "execution_count": null,
      "outputs": []
    },
    {
      "metadata": {},
      "cell_type": "markdown",
      "source": "Some algorithms work only for directed graphs and others are not well\ndefined for directed graphs.  Indeed the tendency to lump directed\nand undirected graphs together is dangerous.  If you want to treat\na directed graph as undirected for some measurement you should probably\nconvert it using `Graph.to_undirected()` or with"
    },
    {
      "metadata": {
        "trusted": true
      },
      "cell_type": "code",
      "source": "H = nx.Graph(G)  # convert G to undirected graph",
      "execution_count": null,
      "outputs": []
    },
    {
      "metadata": {},
      "cell_type": "markdown",
      "source": "# Multigraphs\n\nNetworkX provides classes for graphs which allow multiple edges\nbetween any pair of nodes.  The `MultiGraph` and\n`MultiDiGraph`\nclasses allow you to add the same edge twice, possibly with different\nedge data.  This can be powerful for some applications, but many\nalgorithms are not well defined on such graphs.\nWhere results are well defined,\ne.g., `MultiGraph.degree()` we provide the function.  Otherwise you\nshould convert to a standard graph in a way that makes the measurement\nwell defined."
    },
    {
      "metadata": {
        "trusted": true
      },
      "cell_type": "code",
      "source": "MG = nx.MultiGraph()\nMG.add_weighted_edges_from([(1, 2, 0.5), (1, 2, 0.75), (2, 3, 0.5)])\ndict(MG.degree(weight='weight'))\nGG = nx.Graph()\nfor n, nbrs in MG.adjacency():\n   for nbr, edict in nbrs.items():\n       minvalue = min([d['weight'] for d in edict.values()])\n       GG.add_edge(n, nbr, weight = minvalue)\n\nnx.shortest_path(GG, 1, 3)",
      "execution_count": 35,
      "outputs": [
        {
          "output_type": "execute_result",
          "execution_count": 35,
          "data": {
            "text/plain": "[1, 2, 3]"
          },
          "metadata": {}
        }
      ]
    },
    {
      "metadata": {},
      "cell_type": "markdown",
      "source": "# Graph generators and graph operations\n\nIn addition to constructing graphs node-by-node or edge-by-edge, they\ncan also be generated by\n\n1. Applying classic graph operations, such as:\n\n   ```\n   subgraph(G, nbunch)      - induced subgraph view of G on nodes in nbunch\n   union(G1,G2)             - graph union\n   disjoint_union(G1,G2)    - graph union assuming all nodes are different\n   cartesian_product(G1,G2) - return Cartesian product graph\n   compose(G1,G2)           - combine graphs identifying nodes common to both\n   complement(G)            - graph complement\n   create_empty_copy(G)     - return an empty copy of the same graph class\n   to_undirected(G) - return an undirected representation of G\n   to_directed(G)   - return a directed representation of G\n   ```\n\n1. Using a call to one of the classic small graphs, e.g.,"
    },
    {
      "metadata": {
        "trusted": true
      },
      "cell_type": "code",
      "source": "petersen = nx.petersen_graph()\ntutte = nx.tutte_graph()\nmaze = nx.sedgewick_maze_graph()\ntet = nx.tetrahedral_graph()",
      "execution_count": null,
      "outputs": []
    },
    {
      "metadata": {},
      "cell_type": "markdown",
      "source": "1. Using a (constructive) generator for a classic graph, e.g.,"
    },
    {
      "metadata": {
        "trusted": true
      },
      "cell_type": "code",
      "source": "K_5 = nx.complete_graph(5)\nK_3_5 = nx.complete_bipartite_graph(3, 5)\nbarbell = nx.barbell_graph(10, 10)\nlollipop = nx.lollipop_graph(10, 20)",
      "execution_count": null,
      "outputs": []
    },
    {
      "metadata": {},
      "cell_type": "markdown",
      "source": "1. Using a stochastic graph generator, e.g.,"
    },
    {
      "metadata": {
        "trusted": true
      },
      "cell_type": "code",
      "source": "er = nx.erdos_renyi_graph(100, 0.15)\nws = nx.watts_strogatz_graph(30, 3, 0.1)\nba = nx.barabasi_albert_graph(100, 5)\nred = nx.random_lobster(100, 0.9, 0.9)",
      "execution_count": null,
      "outputs": []
    },
    {
      "metadata": {},
      "cell_type": "markdown",
      "source": "1. Reading a graph stored in a file using common graph formats,\n   such as edge lists, adjacency lists, GML, GraphML, pickle, LEDA and others."
    },
    {
      "metadata": {
        "trusted": true
      },
      "cell_type": "code",
      "source": "nx.write_gml(red, \"path.to.file\")\nmygraph = nx.read_gml(\"path.to.file\")",
      "execution_count": null,
      "outputs": []
    },
    {
      "metadata": {},
      "cell_type": "markdown",
      "source": "For details on graph formats see Reading and writing graphs\nand for graph generator functions see Graph generators\n\n# Analyzing graphs\n\nThe structure of `G` can be analyzed using various graph-theoretic\nfunctions such as:"
    },
    {
      "metadata": {
        "trusted": true
      },
      "cell_type": "code",
      "source": "G = nx.Graph()\nG.add_edges_from([(1, 2), (1, 3)])\nG.add_node(\"spam\")       # adds node \"spam\"\nlist(nx.connected_components(G))\nsorted(d for n, d in G.degree())\nnx.clustering(G)",
      "execution_count": 36,
      "outputs": [
        {
          "output_type": "execute_result",
          "execution_count": 36,
          "data": {
            "text/plain": "{1: 0, 2: 0, 3: 0, 'spam': 0}"
          },
          "metadata": {}
        }
      ]
    },
    {
      "metadata": {},
      "cell_type": "markdown",
      "source": "Some functions with large output iterate over (node, value) 2-tuples.\nThese are easily stored in a [dict](https://docs.python.org/2/library/stdtypes.html#dict) structure if you desire."
    },
    {
      "metadata": {
        "trusted": true
      },
      "cell_type": "code",
      "source": "sp = dict(nx.all_pairs_shortest_path(G))\nsp[3]",
      "execution_count": null,
      "outputs": []
    },
    {
      "metadata": {},
      "cell_type": "markdown",
      "source": "See Algorithms for details on graph algorithms\nsupported.\n\n# Drawing graphs\n\nNetworkX is not primarily a graph drawing package but basic drawing with\nMatplotlib as well as an interface to use the open source Graphviz software\npackage are included.  These are part of the `networkx.drawing` module and will\nbe imported if possible.\n\nFirst import Matplotlib’s plot interface (pylab works too)"
    },
    {
      "metadata": {
        "trusted": true
      },
      "cell_type": "code",
      "source": "import matplotlib.pyplot as plt",
      "execution_count": 37,
      "outputs": []
    },
    {
      "metadata": {},
      "cell_type": "markdown",
      "source": "You may find it useful to interactively test code using `ipython -pylab`,\nwhich combines the power of ipython and matplotlib and provides a convenient\ninteractive mode.\n\nTo test if the import of `networkx.drawing` was successful draw `G` using one of"
    },
    {
      "metadata": {
        "trusted": true
      },
      "cell_type": "code",
      "source": "#G = nx.petersen_graph()\nG = nx.Graph()\nG.add_nodes_from([1, 2, 3,4,5])\nG.add_edges_from([(1, 2), (1, 3),(4,1),(5,4)])\nplt.subplot(121)\nnx.draw(G, with_labels=True, font_weight='bold')\n#plt.subplot(122)\n#nx.draw_shell(G, nlist=[range(5, 10), range(5)], with_labels=True, font_weight='bold')",
      "execution_count": 49,
      "outputs": [
        {
          "output_type": "display_data",
          "data": {
            "image/png": "[encoded data removed]",
            "text/plain": "<Figure size 432x288 with 1 Axes>"
          },
          "metadata": {}
        }
      ]
    },
    {
      "metadata": {},
      "cell_type": "markdown",
      "source": "when drawing to an interactive display.  Note that you may need to issue a\nMatplotlib"
    },
    {
      "metadata": {
        "trusted": true
      },
      "cell_type": "code",
      "source": "plt.show()",
      "execution_count": 44,
      "outputs": []
    },
    {
      "metadata": {},
      "cell_type": "markdown",
      "source": "command if you are not using matplotlib in interactive mode (see\n[Matplotlib FAQ](http://matplotlib.org/faq/installing_faq.html#matplotlib-compiled-fine-but-nothing-shows-up-when-i-use-it)\n)."
    },
    {
      "metadata": {
        "trusted": true
      },
      "cell_type": "code",
      "source": "options = {\n    'node_color': 'black',\n    'node_size': 100,\n    'width': 3,\n}\nplt.subplot(221)\nnx.draw_random(G, **options)\nplt.subplot(222)\nnx.draw_circular(G, **options)\nplt.subplot(223)\nnx.draw_spectral(G, **options)\nplt.subplot(224)\nnx.draw_shell(G, nlist=[range(5,10), range(5)], **options)",
      "execution_count": 45,
      "outputs": [
        {
          "output_type": "display_data",
          "data": {
            "image/png": "[encoded data removed]",
            "text/plain": "<Figure size 432x288 with 4 Axes>"
          },
          "metadata": {}
        }
      ]
    },
    {
      "metadata": {},
      "cell_type": "markdown",
      "source": "You can find additional options via `draw_networkx()` and\nlayouts via `layout`.\nYou can use multiple shells with `draw_shell()`."
    },
    {
      "metadata": {
        "trusted": true
      },
      "cell_type": "code",
      "source": "G = nx.dodecahedral_graph()\nshells = [[2, 3, 4, 5, 6], [8, 1, 0, 19, 18, 17, 16, 15, 14, 7], [9, 10, 11, 12, 13]]\nnx.draw_shell(G, nlist=shells, **options)",
      "execution_count": null,
      "outputs": []
    },
    {
      "metadata": {},
      "cell_type": "markdown",
      "source": "To save drawings to a file, use, for example"
    },
    {
      "metadata": {
        "trusted": true
      },
      "cell_type": "code",
      "source": "nx.draw(G)\nplt.savefig(\"path.png\")",
      "execution_count": null,
      "outputs": []
    },
    {
      "metadata": {},
      "cell_type": "markdown",
      "source": "writes to the file `path.png` in the local directory. If Graphviz and\nPyGraphviz or pydot, are available on your system, you can also use\n`nx_agraph.graphviz_layout(G)` or `nx_pydot.graphviz_layout(G)` to get the\nnode positions, or write the graph in dot format for further processing."
    },
    {
      "metadata": {
        "trusted": true
      },
      "cell_type": "code",
      "source": "from networkx.drawing.nx_pydot import write_dot\npos = nx.nx_agraph.graphviz_layout(G)\nnx.draw(G, pos=pos)\nwrite_dot(G, 'file.dot')",
      "execution_count": null,
      "outputs": []
    },
    {
      "metadata": {},
      "cell_type": "markdown",
      "source": "See Drawing for additional details."
    }
  ],
  "metadata": {
    "language_info": {
      "mimetype": "text/x-python",
      "nbconvert_exporter": "python",
      "name": "python",
      "pygments_lexer": "ipython2",
      "version": "2.7.15",
      "file_extension": ".py",
      "codemirror_mode": {
        "version": 2,
        "name": "ipython"
      }
    },
    "kernelspec": {
      "name": "python2",
      "display_name": "Python 2",
      "language": "python"
    }
  },
  "nbformat": 4,
  "nbformat_minor": 2
}