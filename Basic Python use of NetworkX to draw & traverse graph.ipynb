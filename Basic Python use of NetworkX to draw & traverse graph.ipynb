{
  "cells": [
    {
      "metadata": {
        "trusted": true
      },
      "cell_type": "code",
      "source": "import networkx as nx  #import graph drawing libarary \nimport matplotlib.pyplot as plt # import plotting library\n\n#create new blank graph\nG = nx.Graph()\n\n#add some nodes\nG.add_nodes_from([1, 2, 3 , 4 , 5 ,6,\"spam\",\"wii controller\"])\n#join them with edges\nG.add_edges_from([ (1, 3),(4,1),(4,2),(5,1),(6,1),(5,\"spam\"),(5,\"wii controller\")])\n#draw this graph\nnx.draw(G, with_labels=True, font_weight='bold')\n\n#show the plot\nplt.show()",
      "execution_count": 11,
      "outputs": [
        {
          "output_type": "display_data",
          "data": {
            "image/png": "[encoded data removed]",
            "text/plain": "<Figure size 432x288 with 1 Axes>"
          },
          "metadata": {}
        }
      ]
    },
    {
      "metadata": {
        "trusted": true
      },
      "cell_type": "code",
      "source": "#list nodes\nlist(G.nodes)\n\n",
      "execution_count": 10,
      "outputs": [
        {
          "output_type": "execute_result",
          "execution_count": 10,
          "data": {
            "text/plain": "[1, 2, 3, 4, 5, 6, 'spam', 'wii controller']"
          },
          "metadata": {}
        }
      ]
    },
    {
      "metadata": {
        "trusted": true
      },
      "cell_type": "code",
      "source": "#list edges\nlist(G.edges)",
      "execution_count": 3,
      "outputs": [
        {
          "output_type": "execute_result",
          "execution_count": 3,
          "data": {
            "text/plain": "[(1, 3), (1, 4), (1, 5), (1, 6), (2, 4), (5, 'spam')]"
          },
          "metadata": {}
        }
      ]
    },
    {
      "metadata": {
        "trusted": true
      },
      "cell_type": "code",
      "source": "list(nx.connected_components(G))\n",
      "execution_count": 4,
      "outputs": [
        {
          "output_type": "execute_result",
          "execution_count": 4,
          "data": {
            "text/plain": "[{1, 2, 3, 4, 5, 6, 'spam'}, {'wii controller'}]"
          },
          "metadata": {}
        }
      ]
    },
    {
      "metadata": {
        "trusted": true
      },
      "cell_type": "code",
      "source": "#perform a BFS starting from \"spam\"\nlist(nx.bfs_edges(G, \"spam\"))\n",
      "execution_count": 5,
      "outputs": [
        {
          "output_type": "execute_result",
          "execution_count": 5,
          "data": {
            "text/plain": "[('spam', 5), (5, 1), (1, 3), (1, 4), (1, 6), (4, 2)]"
          },
          "metadata": {}
        }
      ]
    },
    {
      "metadata": {
        "trusted": true
      },
      "cell_type": "code",
      "source": "#perform a DFS starting from \"spam\"\nlist(nx.dfs_edges(G, \"spam\"))",
      "execution_count": 6,
      "outputs": [
        {
          "output_type": "execute_result",
          "execution_count": 6,
          "data": {
            "text/plain": "[('spam', 5), (5, 1), (1, 3), (1, 4), (4, 2), (1, 6)]"
          },
          "metadata": {}
        }
      ]
    },
    {
      "metadata": {
        "trusted": true
      },
      "cell_type": "code",
      "source": "root = \"spam\"\nedges = nx.bfs_edges(G, root)\nnodes = [root] + [v for u, v in edges]\nnodes",
      "execution_count": 7,
      "outputs": [
        {
          "output_type": "execute_result",
          "execution_count": 7,
          "data": {
            "text/plain": "['spam', 5, 1, 3, 4, 6, 2]"
          },
          "metadata": {}
        }
      ]
    },
    {
      "metadata": {
        "trusted": true
      },
      "cell_type": "code",
      "source": "root = \"spam\"\nedges = nx.dfs_edges(G, root)\nnodes = [root] + [v for u, v in edges]\nnodes",
      "execution_count": 8,
      "outputs": [
        {
          "output_type": "execute_result",
          "execution_count": 8,
          "data": {
            "text/plain": "['spam', 5, 1, 3, 4, 2, 6]"
          },
          "metadata": {}
        }
      ]
    },
    {
      "metadata": {
        "trusted": true
      },
      "cell_type": "code",
      "source": "",
      "execution_count": null,
      "outputs": []
    },
    {
      "metadata": {
        "trusted": true
      },
      "cell_type": "code",
      "source": "",
      "execution_count": null,
      "outputs": []
    },
    {
      "metadata": {
        "trusted": true
      },
      "cell_type": "code",
      "source": "",
      "execution_count": null,
      "outputs": []
    }
  ],
  "metadata": {
    "kernelspec": {
      "name": "python36",
      "display_name": "Python 3.6",
      "language": "python"
    },
    "language_info": {
      "mimetype": "text/x-python",
      "nbconvert_exporter": "python",
      "name": "python",
      "pygments_lexer": "ipython3",
      "version": "3.6.6",
      "file_extension": ".py",
      "codemirror_mode": {
        "version": 3,
        "name": "ipython"
      }
    }
  },
  "nbformat": 4,
  "nbformat_minor": 1
}